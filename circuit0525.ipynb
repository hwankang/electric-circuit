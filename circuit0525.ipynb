{
  "nbformat": 4,
  "nbformat_minor": 0,
  "metadata": {
    "colab": {
      "name": "circuit0420.ipynb",
      "private_outputs": true,
      "provenance": [],
      "authorship_tag": "ABX9TyOBhrIdPLYST0+VBGkkbCg3",
      "include_colab_link": true
    },
    "kernelspec": {
      "name": "python3",
      "display_name": "Python 3"
    },
    "language_info": {
      "name": "python"
    }
  },
  "cells": [
    {
      "cell_type": "markdown",
      "metadata": {
        "id": "view-in-github",
        "colab_type": "text"
      },
      "source": [
        "<a href=\"https://colab.research.google.com/github/hwankang/electric-circuit/blob/main/circuit0525.ipynb\" target=\"_parent\"><img src=\"https://colab.research.google.com/assets/colab-badge.svg\" alt=\"Open In Colab\"/></a>"
      ]
    },
    {
      "cell_type": "code",
      "metadata": {
        "id": "IpsOoCxxdTU1"
      },
      "source": [
        "import numpy as np \n",
        "R=np.array([[1,0,0,0],[1,1,-1,0],[0,1,3,-2],[0,-1,-1, 2]])\n",
        "R"
      ],
      "execution_count": null,
      "outputs": []
    },
    {
      "cell_type": "code",
      "metadata": {
        "id": "vVeNjhjKdcoR"
      },
      "source": [
        "V=np.array([[4],[0],[8],[-12]])\n",
        "V"
      ],
      "execution_count": null,
      "outputs": []
    },
    {
      "cell_type": "code",
      "metadata": {
        "id": "xIUGwi0gm3Fd"
      },
      "source": [
        "INV_R=np.linalg.inv(R)\n",
        "INV_R"
      ],
      "execution_count": null,
      "outputs": []
    },
    {
      "cell_type": "code",
      "metadata": {
        "id": "LZWOlKe6nCQd"
      },
      "source": [
        "I=np.matmul(INV_R,V)\n",
        "I"
      ],
      "execution_count": null,
      "outputs": []
    }
  ]
}