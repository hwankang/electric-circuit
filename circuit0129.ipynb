{
  "nbformat": 4,
  "nbformat_minor": 0,
  "metadata": {
    "colab": {
      "name": "circuit0129.ipynb",
      "private_outputs": true,
      "provenance": [],
      "authorship_tag": "ABX9TyMHlTekGDGFhhZaNGAQ6nZI",
      "include_colab_link": true
    },
    "kernelspec": {
      "name": "python3",
      "display_name": "Python 3"
    }
  },
  "cells": [
    {
      "cell_type": "markdown",
      "metadata": {
        "id": "view-in-github",
        "colab_type": "text"
      },
      "source": [
        "<a href=\"https://colab.research.google.com/github/hwankang/electric-circuit/blob/main/circuit0129.ipynb\" target=\"_parent\"><img src=\"https://colab.research.google.com/assets/colab-badge.svg\" alt=\"Open In Colab\"/></a>"
      ]
    },
    {
      "cell_type": "markdown",
      "metadata": {
        "id": "FV_I32gjw0bO"
      },
      "source": [
        "* https://riptutorial.com/sympy\r\n",
        "*  Hwan Il Kang 2021 Jan 30 Sat.  "
      ]
    },
    {
      "cell_type": "code",
      "metadata": {
        "id": "J029O_DRwh5E"
      },
      "source": [
        "import numpy as np"
      ],
      "execution_count": null,
      "outputs": []
    },
    {
      "cell_type": "markdown",
      "metadata": {
        "id": "qyzrlKRpwpQj"
      },
      "source": [
        "행렬, 역행렬 및 행렬 곱샘 "
      ]
    },
    {
      "cell_type": "code",
      "metadata": {
        "id": "1dixM9B-womn"
      },
      "source": [
        "a=np.matrix('1 2; 3 4')"
      ],
      "execution_count": null,
      "outputs": []
    },
    {
      "cell_type": "code",
      "metadata": {
        "id": "FYzA0xEQwudS"
      },
      "source": [
        "a"
      ],
      "execution_count": null,
      "outputs": []
    },
    {
      "cell_type": "code",
      "metadata": {
        "id": "0ZuaLqtkxKEa"
      },
      "source": [
        "b=np.linalg.inv(a)"
      ],
      "execution_count": null,
      "outputs": []
    },
    {
      "cell_type": "code",
      "metadata": {
        "id": "8TzvyEAsy2A-"
      },
      "source": [
        "b"
      ],
      "execution_count": null,
      "outputs": []
    },
    {
      "cell_type": "code",
      "metadata": {
        "id": "YLMvln0ey2zW"
      },
      "source": [
        "b=np.array([[1,2],[3,4]])"
      ],
      "execution_count": null,
      "outputs": []
    },
    {
      "cell_type": "code",
      "metadata": {
        "id": "hYsp1zRL0Xzu"
      },
      "source": [
        "c=np.multiply(a,b)"
      ],
      "execution_count": null,
      "outputs": []
    },
    {
      "cell_type": "markdown",
      "metadata": {
        "id": "wGFRPzycwivi"
      },
      "source": [
        "분수 계산"
      ]
    },
    {
      "cell_type": "code",
      "metadata": {
        "id": "nTvkfCmP0hNe"
      },
      "source": [
        "c"
      ],
      "execution_count": null,
      "outputs": []
    },
    {
      "cell_type": "code",
      "metadata": {
        "id": "4olTlaZ80kI3"
      },
      "source": [
        "1/11+3/4"
      ],
      "execution_count": null,
      "outputs": []
    },
    {
      "cell_type": "code",
      "metadata": {
        "id": "-dPHWSJa4zEu"
      },
      "source": [
        "!pip install sympy\r\n",
        "import sympy as sy\r\n",
        "sy.Rational('2/3')"
      ],
      "execution_count": null,
      "outputs": []
    },
    {
      "cell_type": "code",
      "metadata": {
        "id": "GU6NDf4Q6Ubo"
      },
      "source": [
        "c=sy.Rational('2/3')+sy.Rational('4/5')"
      ],
      "execution_count": null,
      "outputs": []
    },
    {
      "cell_type": "code",
      "metadata": {
        "id": "zmfGLq1j9DUg"
      },
      "source": [
        "print(c)"
      ],
      "execution_count": null,
      "outputs": []
    },
    {
      "cell_type": "markdown",
      "metadata": {
        "id": "znsby24qwbWa"
      },
      "source": [
        "적분"
      ]
    },
    {
      "cell_type": "code",
      "metadata": {
        "id": "dQyOU7dTr1iJ"
      },
      "source": [
        "from sympy import *\r\n"
      ],
      "execution_count": null,
      "outputs": []
    },
    {
      "cell_type": "code",
      "metadata": {
        "id": "x9TEG_ZqsL4H"
      },
      "source": [
        "x=symbols('x')"
      ],
      "execution_count": null,
      "outputs": []
    },
    {
      "cell_type": "code",
      "metadata": {
        "id": "e5b44m3hs5TH"
      },
      "source": [
        "a = Integral(sin(x),x)"
      ],
      "execution_count": null,
      "outputs": []
    },
    {
      "cell_type": "code",
      "metadata": {
        "id": "rC9CJePLtASN"
      },
      "source": [
        "a.doit()\r\n"
      ],
      "execution_count": null,
      "outputs": []
    },
    {
      "cell_type": "markdown",
      "metadata": {
        "id": "htpkDOFnvbT-"
      },
      "source": [
        "방정식\r\n"
      ]
    },
    {
      "cell_type": "code",
      "metadata": {
        "id": "A5BYLKOnvez3"
      },
      "source": [
        "x1, x2=sy.symbols('x1 x2')"
      ],
      "execution_count": null,
      "outputs": []
    },
    {
      "cell_type": "code",
      "metadata": {
        "id": "eaIEwYn2vpZ4"
      },
      "source": [
        "equations=[\r\n",
        "           sy.Eq(2*x1 +x2, 5),\r\n",
        "           sy.Eq(2*x1+5*x2, 12)\r\n",
        "]"
      ],
      "execution_count": null,
      "outputs": []
    },
    {
      "cell_type": "code",
      "metadata": {
        "id": "WYyGd6fPwGsG"
      },
      "source": [
        "print(sy.solve(equations))"
      ],
      "execution_count": null,
      "outputs": []
    }
  ]
}