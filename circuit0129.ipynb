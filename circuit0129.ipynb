{
  "nbformat": 4,
  "nbformat_minor": 0,
  "metadata": {
    "colab": {
      "name": "circuit0129.ipynb",
      "private_outputs": true,
      "provenance": [],
      "authorship_tag": "ABX9TyOP6CSjB0ktZokRhsW1NGc+",
      "include_colab_link": true
    },
    "kernelspec": {
      "name": "python3",
      "display_name": "Python 3"
    }
  },
  "cells": [
    {
      "cell_type": "markdown",
      "metadata": {
        "id": "view-in-github",
        "colab_type": "text"
      },
      "source": [
        "<a href=\"https://colab.research.google.com/github/hwankang/electric-circuit/blob/main/circuit0129.ipynb\" target=\"_parent\"><img src=\"https://colab.research.google.com/assets/colab-badge.svg\" alt=\"Open In Colab\"/></a>"
      ]
    },
    {
      "cell_type": "code",
      "metadata": {
        "id": "J029O_DRwh5E"
      },
      "source": [
        "import numpy as np"
      ],
      "execution_count": null,
      "outputs": []
    },
    {
      "cell_type": "code",
      "metadata": {
        "id": "1dixM9B-womn"
      },
      "source": [
        "a=np.matrix('1 2; 3 4')"
      ],
      "execution_count": null,
      "outputs": []
    },
    {
      "cell_type": "code",
      "metadata": {
        "id": "FYzA0xEQwudS"
      },
      "source": [
        "a"
      ],
      "execution_count": null,
      "outputs": []
    },
    {
      "cell_type": "code",
      "metadata": {
        "id": "0ZuaLqtkxKEa"
      },
      "source": [
        "b=np.linalg.inv(a)"
      ],
      "execution_count": null,
      "outputs": []
    },
    {
      "cell_type": "code",
      "metadata": {
        "id": "8TzvyEAsy2A-"
      },
      "source": [
        "b"
      ],
      "execution_count": null,
      "outputs": []
    },
    {
      "cell_type": "code",
      "metadata": {
        "id": "YLMvln0ey2zW"
      },
      "source": [
        "b=np.array([[1,2],[3,4]])"
      ],
      "execution_count": null,
      "outputs": []
    },
    {
      "cell_type": "code",
      "metadata": {
        "id": "hYsp1zRL0Xzu"
      },
      "source": [
        "c=np.multiply(a,b)"
      ],
      "execution_count": null,
      "outputs": []
    },
    {
      "cell_type": "code",
      "metadata": {
        "id": "nTvkfCmP0hNe"
      },
      "source": [
        "c"
      ],
      "execution_count": null,
      "outputs": []
    },
    {
      "cell_type": "code",
      "metadata": {
        "id": "4olTlaZ80kI3"
      },
      "source": [
        "1/11+3/4"
      ],
      "execution_count": null,
      "outputs": []
    },
    {
      "cell_type": "code",
      "metadata": {
        "id": "-dPHWSJa4zEu"
      },
      "source": [
        "!pip install sympy\r\n",
        "import sympy as sy\r\n",
        "sy.Rational('2/3')"
      ],
      "execution_count": null,
      "outputs": []
    },
    {
      "cell_type": "code",
      "metadata": {
        "id": "GU6NDf4Q6Ubo"
      },
      "source": [
        "c=sy.Rational('2/3')+sy.Rational('4/5')"
      ],
      "execution_count": null,
      "outputs": []
    },
    {
      "cell_type": "code",
      "metadata": {
        "id": "zmfGLq1j9DUg"
      },
      "source": [
        "print(c)"
      ],
      "execution_count": null,
      "outputs": []
    }
  ]
}